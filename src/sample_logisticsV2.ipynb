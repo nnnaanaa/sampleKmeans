{
 "cells": [
  {
   "cell_type": "markdown",
   "id": "d1da9bd6-0627-4889-836e-773f75bb38bf",
   "metadata": {},
   "source": [
    "https://qiita.com/0NE_shoT_/items/c42d8093e2fed9bf1b7a"
   ]
  },
  {
   "cell_type": "code",
   "execution_count": 34,
   "id": "8d6e0e3f-074d-412b-b784-3ee39ee7c06b",
   "metadata": {},
   "outputs": [],
   "source": [
    "from sklearn.datasets import make_classification\n",
    "X, Y = make_classification(n_samples=200000, n_features=20, n_informative=2, n_redundant=2)"
   ]
  },
  {
   "cell_type": "code",
   "execution_count": 33,
   "id": "7e0fec7e-b76a-416f-b3e5-46876cdbc07e",
   "metadata": {},
   "outputs": [
    {
     "data": {
      "text/html": [
       "<div>\n",
       "<style scoped>\n",
       "    .dataframe tbody tr th:only-of-type {\n",
       "        vertical-align: middle;\n",
       "    }\n",
       "\n",
       "    .dataframe tbody tr th {\n",
       "        vertical-align: top;\n",
       "    }\n",
       "\n",
       "    .dataframe thead th {\n",
       "        text-align: right;\n",
       "    }\n",
       "</style>\n",
       "<table border=\"1\" class=\"dataframe\">\n",
       "  <thead>\n",
       "    <tr style=\"text-align: right;\">\n",
       "      <th></th>\n",
       "      <th>0</th>\n",
       "      <th>1</th>\n",
       "      <th>2</th>\n",
       "      <th>3</th>\n",
       "      <th>4</th>\n",
       "      <th>5</th>\n",
       "      <th>6</th>\n",
       "      <th>7</th>\n",
       "      <th>8</th>\n",
       "      <th>9</th>\n",
       "      <th>10</th>\n",
       "      <th>11</th>\n",
       "      <th>12</th>\n",
       "      <th>13</th>\n",
       "      <th>14</th>\n",
       "      <th>15</th>\n",
       "      <th>16</th>\n",
       "      <th>17</th>\n",
       "      <th>18</th>\n",
       "      <th>19</th>\n",
       "    </tr>\n",
       "  </thead>\n",
       "  <tbody>\n",
       "    <tr>\n",
       "      <th>0</th>\n",
       "      <td>-0.366209</td>\n",
       "      <td>0.073682</td>\n",
       "      <td>0.252865</td>\n",
       "      <td>0.095461</td>\n",
       "      <td>1.464949</td>\n",
       "      <td>-1.356478</td>\n",
       "      <td>-1.221864</td>\n",
       "      <td>-0.759587</td>\n",
       "      <td>1.334384</td>\n",
       "      <td>-1.009573</td>\n",
       "      <td>0.825887</td>\n",
       "      <td>-0.054001</td>\n",
       "      <td>1.569960</td>\n",
       "      <td>-2.891699</td>\n",
       "      <td>-0.068381</td>\n",
       "      <td>-1.952914</td>\n",
       "      <td>-1.198182</td>\n",
       "      <td>1.169903</td>\n",
       "      <td>-1.504805</td>\n",
       "      <td>-1.304413</td>\n",
       "    </tr>\n",
       "    <tr>\n",
       "      <th>1</th>\n",
       "      <td>1.957047</td>\n",
       "      <td>-1.658923</td>\n",
       "      <td>0.130103</td>\n",
       "      <td>-0.598455</td>\n",
       "      <td>0.059104</td>\n",
       "      <td>-1.459825</td>\n",
       "      <td>-1.109454</td>\n",
       "      <td>1.100434</td>\n",
       "      <td>-0.395529</td>\n",
       "      <td>-0.504215</td>\n",
       "      <td>-1.092709</td>\n",
       "      <td>-0.926667</td>\n",
       "      <td>-0.605394</td>\n",
       "      <td>-2.614553</td>\n",
       "      <td>1.815005</td>\n",
       "      <td>1.340622</td>\n",
       "      <td>-0.995397</td>\n",
       "      <td>0.940668</td>\n",
       "      <td>-0.239948</td>\n",
       "      <td>0.057725</td>\n",
       "    </tr>\n",
       "    <tr>\n",
       "      <th>2</th>\n",
       "      <td>-1.867017</td>\n",
       "      <td>0.250916</td>\n",
       "      <td>0.825095</td>\n",
       "      <td>0.064071</td>\n",
       "      <td>2.540088</td>\n",
       "      <td>-0.452660</td>\n",
       "      <td>-0.417180</td>\n",
       "      <td>0.742091</td>\n",
       "      <td>1.064707</td>\n",
       "      <td>1.375448</td>\n",
       "      <td>0.695932</td>\n",
       "      <td>0.279972</td>\n",
       "      <td>-0.286539</td>\n",
       "      <td>-0.987821</td>\n",
       "      <td>0.092977</td>\n",
       "      <td>-0.369986</td>\n",
       "      <td>-0.326305</td>\n",
       "      <td>0.309940</td>\n",
       "      <td>0.927058</td>\n",
       "      <td>-0.243606</td>\n",
       "    </tr>\n",
       "    <tr>\n",
       "      <th>3</th>\n",
       "      <td>-0.796776</td>\n",
       "      <td>-0.011813</td>\n",
       "      <td>-0.213272</td>\n",
       "      <td>0.065731</td>\n",
       "      <td>0.265295</td>\n",
       "      <td>0.257104</td>\n",
       "      <td>0.207023</td>\n",
       "      <td>-2.079953</td>\n",
       "      <td>1.886478</td>\n",
       "      <td>-0.196287</td>\n",
       "      <td>1.051832</td>\n",
       "      <td>-0.295048</td>\n",
       "      <td>-0.189031</td>\n",
       "      <td>0.488618</td>\n",
       "      <td>0.081235</td>\n",
       "      <td>1.449065</td>\n",
       "      <td>-0.408192</td>\n",
       "      <td>0.448930</td>\n",
       "      <td>2.134949</td>\n",
       "      <td>0.113275</td>\n",
       "    </tr>\n",
       "    <tr>\n",
       "      <th>4</th>\n",
       "      <td>0.624687</td>\n",
       "      <td>-0.566554</td>\n",
       "      <td>0.111854</td>\n",
       "      <td>-0.201340</td>\n",
       "      <td>0.508144</td>\n",
       "      <td>0.992800</td>\n",
       "      <td>0.932808</td>\n",
       "      <td>1.037411</td>\n",
       "      <td>0.355991</td>\n",
       "      <td>-0.638373</td>\n",
       "      <td>-0.933605</td>\n",
       "      <td>0.515719</td>\n",
       "      <td>0.859679</td>\n",
       "      <td>2.209694</td>\n",
       "      <td>0.142433</td>\n",
       "      <td>0.873994</td>\n",
       "      <td>0.193929</td>\n",
       "      <td>0.560372</td>\n",
       "      <td>-1.851355</td>\n",
       "      <td>0.364697</td>\n",
       "    </tr>\n",
       "    <tr>\n",
       "      <th>...</th>\n",
       "      <td>...</td>\n",
       "      <td>...</td>\n",
       "      <td>...</td>\n",
       "      <td>...</td>\n",
       "      <td>...</td>\n",
       "      <td>...</td>\n",
       "      <td>...</td>\n",
       "      <td>...</td>\n",
       "      <td>...</td>\n",
       "      <td>...</td>\n",
       "      <td>...</td>\n",
       "      <td>...</td>\n",
       "      <td>...</td>\n",
       "      <td>...</td>\n",
       "      <td>...</td>\n",
       "      <td>...</td>\n",
       "      <td>...</td>\n",
       "      <td>...</td>\n",
       "      <td>...</td>\n",
       "      <td>...</td>\n",
       "    </tr>\n",
       "    <tr>\n",
       "      <th>199995</th>\n",
       "      <td>-0.012735</td>\n",
       "      <td>-0.479900</td>\n",
       "      <td>0.115526</td>\n",
       "      <td>-0.917336</td>\n",
       "      <td>-0.374174</td>\n",
       "      <td>-0.727069</td>\n",
       "      <td>-0.371073</td>\n",
       "      <td>-2.318911</td>\n",
       "      <td>-0.283705</td>\n",
       "      <td>0.475428</td>\n",
       "      <td>0.548326</td>\n",
       "      <td>-0.348790</td>\n",
       "      <td>-0.779508</td>\n",
       "      <td>-0.862842</td>\n",
       "      <td>-0.105527</td>\n",
       "      <td>-0.637864</td>\n",
       "      <td>1.002221</td>\n",
       "      <td>1.787096</td>\n",
       "      <td>-1.010133</td>\n",
       "      <td>-0.166580</td>\n",
       "    </tr>\n",
       "    <tr>\n",
       "      <th>199996</th>\n",
       "      <td>-0.387132</td>\n",
       "      <td>-0.024251</td>\n",
       "      <td>0.306215</td>\n",
       "      <td>-1.488258</td>\n",
       "      <td>-1.423061</td>\n",
       "      <td>-1.013399</td>\n",
       "      <td>-0.455759</td>\n",
       "      <td>0.899375</td>\n",
       "      <td>-0.162885</td>\n",
       "      <td>-0.568769</td>\n",
       "      <td>-1.269216</td>\n",
       "      <td>0.254984</td>\n",
       "      <td>0.481026</td>\n",
       "      <td>-1.053894</td>\n",
       "      <td>-0.591571</td>\n",
       "      <td>0.709237</td>\n",
       "      <td>-0.470448</td>\n",
       "      <td>-0.722755</td>\n",
       "      <td>1.007663</td>\n",
       "      <td>-0.965767</td>\n",
       "    </tr>\n",
       "    <tr>\n",
       "      <th>199997</th>\n",
       "      <td>0.676681</td>\n",
       "      <td>-0.116934</td>\n",
       "      <td>-0.720440</td>\n",
       "      <td>-0.581317</td>\n",
       "      <td>-1.485621</td>\n",
       "      <td>0.424908</td>\n",
       "      <td>0.544347</td>\n",
       "      <td>0.472608</td>\n",
       "      <td>0.453498</td>\n",
       "      <td>0.985262</td>\n",
       "      <td>0.014250</td>\n",
       "      <td>-0.355855</td>\n",
       "      <td>0.219542</td>\n",
       "      <td>1.297007</td>\n",
       "      <td>-0.416597</td>\n",
       "      <td>0.709768</td>\n",
       "      <td>-0.920372</td>\n",
       "      <td>-0.428512</td>\n",
       "      <td>-2.190282</td>\n",
       "      <td>-0.090253</td>\n",
       "    </tr>\n",
       "    <tr>\n",
       "      <th>199998</th>\n",
       "      <td>-0.348438</td>\n",
       "      <td>0.254578</td>\n",
       "      <td>0.081458</td>\n",
       "      <td>-0.618015</td>\n",
       "      <td>-1.815993</td>\n",
       "      <td>-0.553335</td>\n",
       "      <td>-0.305886</td>\n",
       "      <td>1.063980</td>\n",
       "      <td>0.822263</td>\n",
       "      <td>-0.286552</td>\n",
       "      <td>0.935135</td>\n",
       "      <td>-0.752354</td>\n",
       "      <td>1.551831</td>\n",
       "      <td>-0.713506</td>\n",
       "      <td>-1.375047</td>\n",
       "      <td>-0.263707</td>\n",
       "      <td>0.571384</td>\n",
       "      <td>1.366900</td>\n",
       "      <td>2.061019</td>\n",
       "      <td>1.419075</td>\n",
       "    </tr>\n",
       "    <tr>\n",
       "      <th>199999</th>\n",
       "      <td>0.108894</td>\n",
       "      <td>0.034980</td>\n",
       "      <td>-1.303027</td>\n",
       "      <td>-1.724581</td>\n",
       "      <td>0.084747</td>\n",
       "      <td>0.102681</td>\n",
       "      <td>0.595804</td>\n",
       "      <td>0.236652</td>\n",
       "      <td>-0.268840</td>\n",
       "      <td>-0.294310</td>\n",
       "      <td>0.543368</td>\n",
       "      <td>-0.073254</td>\n",
       "      <td>0.484181</td>\n",
       "      <td>1.437267</td>\n",
       "      <td>-1.809017</td>\n",
       "      <td>0.224269</td>\n",
       "      <td>-0.201395</td>\n",
       "      <td>-0.187201</td>\n",
       "      <td>1.198061</td>\n",
       "      <td>0.645079</td>\n",
       "    </tr>\n",
       "  </tbody>\n",
       "</table>\n",
       "<p>200000 rows × 20 columns</p>\n",
       "</div>"
      ],
      "text/plain": [
       "              0         1         2         3         4         5         6   \\\n",
       "0      -0.366209  0.073682  0.252865  0.095461  1.464949 -1.356478 -1.221864   \n",
       "1       1.957047 -1.658923  0.130103 -0.598455  0.059104 -1.459825 -1.109454   \n",
       "2      -1.867017  0.250916  0.825095  0.064071  2.540088 -0.452660 -0.417180   \n",
       "3      -0.796776 -0.011813 -0.213272  0.065731  0.265295  0.257104  0.207023   \n",
       "4       0.624687 -0.566554  0.111854 -0.201340  0.508144  0.992800  0.932808   \n",
       "...          ...       ...       ...       ...       ...       ...       ...   \n",
       "199995 -0.012735 -0.479900  0.115526 -0.917336 -0.374174 -0.727069 -0.371073   \n",
       "199996 -0.387132 -0.024251  0.306215 -1.488258 -1.423061 -1.013399 -0.455759   \n",
       "199997  0.676681 -0.116934 -0.720440 -0.581317 -1.485621  0.424908  0.544347   \n",
       "199998 -0.348438  0.254578  0.081458 -0.618015 -1.815993 -0.553335 -0.305886   \n",
       "199999  0.108894  0.034980 -1.303027 -1.724581  0.084747  0.102681  0.595804   \n",
       "\n",
       "              7         8         9         10        11        12        13  \\\n",
       "0      -0.759587  1.334384 -1.009573  0.825887 -0.054001  1.569960 -2.891699   \n",
       "1       1.100434 -0.395529 -0.504215 -1.092709 -0.926667 -0.605394 -2.614553   \n",
       "2       0.742091  1.064707  1.375448  0.695932  0.279972 -0.286539 -0.987821   \n",
       "3      -2.079953  1.886478 -0.196287  1.051832 -0.295048 -0.189031  0.488618   \n",
       "4       1.037411  0.355991 -0.638373 -0.933605  0.515719  0.859679  2.209694   \n",
       "...          ...       ...       ...       ...       ...       ...       ...   \n",
       "199995 -2.318911 -0.283705  0.475428  0.548326 -0.348790 -0.779508 -0.862842   \n",
       "199996  0.899375 -0.162885 -0.568769 -1.269216  0.254984  0.481026 -1.053894   \n",
       "199997  0.472608  0.453498  0.985262  0.014250 -0.355855  0.219542  1.297007   \n",
       "199998  1.063980  0.822263 -0.286552  0.935135 -0.752354  1.551831 -0.713506   \n",
       "199999  0.236652 -0.268840 -0.294310  0.543368 -0.073254  0.484181  1.437267   \n",
       "\n",
       "              14        15        16        17        18        19  \n",
       "0      -0.068381 -1.952914 -1.198182  1.169903 -1.504805 -1.304413  \n",
       "1       1.815005  1.340622 -0.995397  0.940668 -0.239948  0.057725  \n",
       "2       0.092977 -0.369986 -0.326305  0.309940  0.927058 -0.243606  \n",
       "3       0.081235  1.449065 -0.408192  0.448930  2.134949  0.113275  \n",
       "4       0.142433  0.873994  0.193929  0.560372 -1.851355  0.364697  \n",
       "...          ...       ...       ...       ...       ...       ...  \n",
       "199995 -0.105527 -0.637864  1.002221  1.787096 -1.010133 -0.166580  \n",
       "199996 -0.591571  0.709237 -0.470448 -0.722755  1.007663 -0.965767  \n",
       "199997 -0.416597  0.709768 -0.920372 -0.428512 -2.190282 -0.090253  \n",
       "199998 -1.375047 -0.263707  0.571384  1.366900  2.061019  1.419075  \n",
       "199999 -1.809017  0.224269 -0.201395 -0.187201  1.198061  0.645079  \n",
       "\n",
       "[200000 rows x 20 columns]"
      ]
     },
     "execution_count": 33,
     "metadata": {},
     "output_type": "execute_result"
    }
   ],
   "source": [
    "import pandas as pd\n",
    "# Xをデータフレームに変換\n",
    "X_df = pd.DataFrame(X)\n",
    "# データフレームの最初の5行を表示\n",
    "X_df"
   ]
  },
  {
   "cell_type": "code",
   "execution_count": 9,
   "id": "6cc1533c-1386-4185-8172-e1575625e5c1",
   "metadata": {},
   "outputs": [
    {
     "data": {
      "text/html": [
       "<style>#sk-container-id-1 {color: black;background-color: white;}#sk-container-id-1 pre{padding: 0;}#sk-container-id-1 div.sk-toggleable {background-color: white;}#sk-container-id-1 label.sk-toggleable__label {cursor: pointer;display: block;width: 100%;margin-bottom: 0;padding: 0.3em;box-sizing: border-box;text-align: center;}#sk-container-id-1 label.sk-toggleable__label-arrow:before {content: \"▸\";float: left;margin-right: 0.25em;color: #696969;}#sk-container-id-1 label.sk-toggleable__label-arrow:hover:before {color: black;}#sk-container-id-1 div.sk-estimator:hover label.sk-toggleable__label-arrow:before {color: black;}#sk-container-id-1 div.sk-toggleable__content {max-height: 0;max-width: 0;overflow: hidden;text-align: left;background-color: #f0f8ff;}#sk-container-id-1 div.sk-toggleable__content pre {margin: 0.2em;color: black;border-radius: 0.25em;background-color: #f0f8ff;}#sk-container-id-1 input.sk-toggleable__control:checked~div.sk-toggleable__content {max-height: 200px;max-width: 100%;overflow: auto;}#sk-container-id-1 input.sk-toggleable__control:checked~label.sk-toggleable__label-arrow:before {content: \"▾\";}#sk-container-id-1 div.sk-estimator input.sk-toggleable__control:checked~label.sk-toggleable__label {background-color: #d4ebff;}#sk-container-id-1 div.sk-label input.sk-toggleable__control:checked~label.sk-toggleable__label {background-color: #d4ebff;}#sk-container-id-1 input.sk-hidden--visually {border: 0;clip: rect(1px 1px 1px 1px);clip: rect(1px, 1px, 1px, 1px);height: 1px;margin: -1px;overflow: hidden;padding: 0;position: absolute;width: 1px;}#sk-container-id-1 div.sk-estimator {font-family: monospace;background-color: #f0f8ff;border: 1px dotted black;border-radius: 0.25em;box-sizing: border-box;margin-bottom: 0.5em;}#sk-container-id-1 div.sk-estimator:hover {background-color: #d4ebff;}#sk-container-id-1 div.sk-parallel-item::after {content: \"\";width: 100%;border-bottom: 1px solid gray;flex-grow: 1;}#sk-container-id-1 div.sk-label:hover label.sk-toggleable__label {background-color: #d4ebff;}#sk-container-id-1 div.sk-serial::before {content: \"\";position: absolute;border-left: 1px solid gray;box-sizing: border-box;top: 0;bottom: 0;left: 50%;z-index: 0;}#sk-container-id-1 div.sk-serial {display: flex;flex-direction: column;align-items: center;background-color: white;padding-right: 0.2em;padding-left: 0.2em;position: relative;}#sk-container-id-1 div.sk-item {position: relative;z-index: 1;}#sk-container-id-1 div.sk-parallel {display: flex;align-items: stretch;justify-content: center;background-color: white;position: relative;}#sk-container-id-1 div.sk-item::before, #sk-container-id-1 div.sk-parallel-item::before {content: \"\";position: absolute;border-left: 1px solid gray;box-sizing: border-box;top: 0;bottom: 0;left: 50%;z-index: -1;}#sk-container-id-1 div.sk-parallel-item {display: flex;flex-direction: column;z-index: 1;position: relative;background-color: white;}#sk-container-id-1 div.sk-parallel-item:first-child::after {align-self: flex-end;width: 50%;}#sk-container-id-1 div.sk-parallel-item:last-child::after {align-self: flex-start;width: 50%;}#sk-container-id-1 div.sk-parallel-item:only-child::after {width: 0;}#sk-container-id-1 div.sk-dashed-wrapped {border: 1px dashed gray;margin: 0 0.4em 0.5em 0.4em;box-sizing: border-box;padding-bottom: 0.4em;background-color: white;}#sk-container-id-1 div.sk-label label {font-family: monospace;font-weight: bold;display: inline-block;line-height: 1.2em;}#sk-container-id-1 div.sk-label-container {text-align: center;}#sk-container-id-1 div.sk-container {/* jupyter's `normalize.less` sets `[hidden] { display: none; }` but bootstrap.min.css set `[hidden] { display: none !important; }` so we also need the `!important` here to be able to override the default hidden behavior on the sphinx rendered scikit-learn.org. See: https://github.com/scikit-learn/scikit-learn/issues/21755 */display: inline-block !important;position: relative;}#sk-container-id-1 div.sk-text-repr-fallback {display: none;}</style><div id=\"sk-container-id-1\" class=\"sk-top-container\"><div class=\"sk-text-repr-fallback\"><pre>LogisticRegression()</pre><b>In a Jupyter environment, please rerun this cell to show the HTML representation or trust the notebook. <br />On GitHub, the HTML representation is unable to render, please try loading this page with nbviewer.org.</b></div><div class=\"sk-container\" hidden><div class=\"sk-item\"><div class=\"sk-estimator sk-toggleable\"><input class=\"sk-toggleable__control sk-hidden--visually\" id=\"sk-estimator-id-1\" type=\"checkbox\" checked><label for=\"sk-estimator-id-1\" class=\"sk-toggleable__label sk-toggleable__label-arrow\">LogisticRegression</label><div class=\"sk-toggleable__content\"><pre>LogisticRegression()</pre></div></div></div></div></div>"
      ],
      "text/plain": [
       "LogisticRegression()"
      ]
     },
     "execution_count": 9,
     "metadata": {},
     "output_type": "execute_result"
    }
   ],
   "source": [
    "from sklearn.model_selection import train_test_split\n",
    "from sklearn.linear_model import LogisticRegression\n",
    "\n",
    "X_train, X_test, Y_train, Y_test = train_test_split(X, Y, test_size=0.5, random_state=0) # 50%のデータを学習データに、50%を検証データにする\n",
    "\n",
    "lr = LogisticRegression() # ロジスティック回帰モデルのインスタンスを作成\n",
    "lr.fit(X_train, Y_train) # ロジスティック回帰モデルの重みを学習"
   ]
  },
  {
   "cell_type": "code",
   "execution_count": 11,
   "id": "14a64615-2238-408d-bbb4-43ae5839807a",
   "metadata": {},
   "outputs": [
    {
     "name": "stdout",
     "output_type": "stream",
     "text": [
      "coefficient =  [[-7.54892198e-04 -6.62579777e-04 -5.82220768e-03  3.79300110e+00\n",
      "  -1.04807505e-02  1.10576617e+00 -1.38406514e-01 -7.92876142e-03\n",
      "   1.81973329e-02  4.79907396e-03  4.10695724e-03 -2.06734827e-02\n",
      "   1.02962827e-02 -3.88908171e-01  5.53350242e-03  6.52633538e-03\n",
      "   5.37627041e-03  9.25134229e-04 -1.22291960e-02 -7.81843147e-03]]\n",
      "intercept =  [0.26959726]\n"
     ]
    }
   ],
   "source": [
    "print(\"coefficient = \", lr.coef_)\n",
    "print(\"intercept = \", lr.intercept_)"
   ]
  },
  {
   "cell_type": "code",
   "execution_count": 12,
   "id": "df5e7de6-eaf6-4f59-8559-fd63739b441d",
   "metadata": {},
   "outputs": [
    {
     "name": "stdout",
     "output_type": "stream",
     "text": [
      "[[9.59028014e-01 4.09719864e-02]\n",
      " [1.49077289e-05 9.99985092e-01]\n",
      " [9.37928147e-01 6.20718533e-02]\n",
      " ...\n",
      " [8.28000725e-01 1.71999275e-01]\n",
      " [9.80828519e-01 1.91714815e-02]\n",
      " [3.87631496e-03 9.96123685e-01]]\n"
     ]
    }
   ],
   "source": [
    "probs = lr.predict_proba(X_test)\n",
    "print(probs)"
   ]
  },
  {
   "cell_type": "code",
   "execution_count": 19,
   "id": "a65517cd-2fed-4013-aaf8-6c8ce4b6b28d",
   "metadata": {},
   "outputs": [
    {
     "data": {
      "text/plain": [
       "array([0.04097199, 0.99998509, 0.06207185, ..., 0.17199928, 0.01917148,\n",
       "       0.99612369])"
      ]
     },
     "execution_count": 19,
     "metadata": {},
     "output_type": "execute_result"
    }
   ],
   "source": [
    "import matplotlib.pyplot as plt\n",
    "from sklearn.calibration import calibration_curve\n",
    "\n",
    "prob = lr.predict_proba(X_test)[:, 1] # 目的変数が1である確率を予測\n",
    "prob"
   ]
  },
  {
   "cell_type": "code",
   "execution_count": 20,
   "id": "45d17356-26d2-4567-8d5d-3993480ae58d",
   "metadata": {},
   "outputs": [],
   "source": [
    "prob_true, prob_pred = calibration_curve(y_true=Y_test, y_prob=prob, n_bins=20)"
   ]
  },
  {
   "cell_type": "code",
   "execution_count": 21,
   "id": "a4e7777c-1560-4feb-a706-d1fa61c8737d",
   "metadata": {},
   "outputs": [
    {
     "data": {
      "text/plain": [
       "array([0.01908524, 0.0643521 , 0.09117841, 0.13186298, 0.18431122,\n",
       "       0.22025316, 0.25936073, 0.33299075, 0.38720539, 0.46254459,\n",
       "       0.50877193, 0.56305732, 0.63824885, 0.67391304, 0.74707471,\n",
       "       0.8067557 , 0.86149068, 0.9198636 , 0.9602418 , 0.99115719])"
      ]
     },
     "execution_count": 21,
     "metadata": {},
     "output_type": "execute_result"
    }
   ],
   "source": [
    "prob_true"
   ]
  },
  {
   "cell_type": "code",
   "execution_count": 22,
   "id": "2d1e5314-fbed-4493-b05b-ccc85f21e4c8",
   "metadata": {},
   "outputs": [
    {
     "data": {
      "text/plain": [
       "array([0.01231652, 0.07189598, 0.12341838, 0.17364478, 0.22390685,\n",
       "       0.27407584, 0.3253839 , 0.37488799, 0.42502752, 0.47489655,\n",
       "       0.52451022, 0.57550587, 0.62578142, 0.67584542, 0.72565183,\n",
       "       0.77594891, 0.82619012, 0.87651213, 0.92835356, 0.99014989])"
      ]
     },
     "execution_count": 22,
     "metadata": {},
     "output_type": "execute_result"
    }
   ],
   "source": [
    "prob_pred"
   ]
  },
  {
   "cell_type": "code",
   "execution_count": 29,
   "id": "a358eed5-f5bf-44b1-8f20-bb2b37d4c7a3",
   "metadata": {},
   "outputs": [
    {
     "data": {
      "image/png": "[encoded data removed]",
      "text/plain": [
       "<Figure size 432x288 with 1 Axes>"
      ]
     },
     "metadata": {
      "needs_background": "light"
     },
     "output_type": "display_data"
    }
   ],
   "source": [
    "fig, ax1 = plt.subplots()\n",
    "ax1.plot(prob_pred, prob_true, label='calibration plot', color='skyblue') # キャリプレーションプロットを作成\n",
    "# ax1.plot([0, 1], [0, 1], linestyle='--', label='ideal', color='limegreen') # 45度線をプロット\n",
    "# ax1.legend(bbox_to_anchor=(1.12, 1), loc='upper left')\n",
    "# ax2 = ax1.twinx() # 2軸を追加\n",
    "# ax2.hist(prob, bins=20, histtype='step', color='orangered') # スコアのヒストグラムも併せてプロット\n",
    "plt.show()"
   ]
  },
  {
   "cell_type": "code",
   "execution_count": 30,
   "id": "6f2709d6-f392-482b-afff-304c9c1319de",
   "metadata": {},
   "outputs": [
    {
     "name": "stdout",
     "output_type": "stream",
     "text": [
      "logistic loss =  0.17724347059719003\n"
     ]
    }
   ],
   "source": [
    "from sklearn.metrics import log_loss\n",
    "print('logistic loss = ', log_loss(y_true=Y_test, y_pred=prob))"
   ]
  },
  {
   "cell_type": "code",
   "execution_count": 31,
   "id": "0cc091fc-a0bc-489d-894c-2267674bd24c",
   "metadata": {},
   "outputs": [
    {
     "name": "stdout",
     "output_type": "stream",
     "text": [
      "brier score =  0.048163808423541\n"
     ]
    }
   ],
   "source": [
    "from sklearn.metrics import brier_score_loss\n",
    "print('brier score = ', brier_score_loss(y_true=Y_test, y_prob=prob))"
   ]
  },
  {
   "cell_type": "code",
   "execution_count": null,
   "id": "38d2893c-d715-48bd-b307-dd4a504610f8",
   "metadata": {},
   "outputs": [],
   "source": []
  }
 ],
 "metadata": {
  "kernelspec": {
   "display_name": "Python 3 (ipykernel)",
   "language": "python",
   "name": "python3"
  },
  "language_info": {
   "codemirror_mode": {
    "name": "ipython",
    "version": 3
   },
   "file_extension": ".py",
   "mimetype": "text/x-python",
   "name": "python",
   "nbconvert_exporter": "python",
   "pygments_lexer": "ipython3",
   "version": "3.10.14"
  }
 },
 "nbformat": 4,
 "nbformat_minor": 5
}
