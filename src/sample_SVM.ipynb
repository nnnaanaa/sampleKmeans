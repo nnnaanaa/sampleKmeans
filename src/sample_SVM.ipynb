{
 "cells": [
  {
   "cell_type": "code",
   "execution_count": 2,
   "id": "37b35bca-b681-4b4f-b4e0-6128b30e95e8",
   "metadata": {},
   "outputs": [],
   "source": [
    "from sklearn.svm import SVC\n",
    "\n",
    "#下記は図示やpandas、numpyのためのライブラリ\n",
    "%matplotlib inline\n",
    "import matplotlib.pyplot as plt\n",
    "import pandas as pd\n",
    "import numpy as np"
   ]
  },
  {
   "cell_type": "code",
   "execution_count": 5,
   "id": "9caf6154-3ae8-41a7-9668-e99cf5ff8575",
   "metadata": {},
   "outputs": [],
   "source": [
    "data = pd.DataFrame({\n",
    "        \"rare\":[True,True,True,True,True,False,False,False,False,False,False,False,False],\n",
    "        \"scale\":[20, 25, 30, 24, 28, 35, 40, 38, 55, 50, 60,32,25],\n",
    "        \"hige\":[10, 20, 40, 18, 30, 10, 20, 30, 25, 28, 30,18,25],\n",
    "})"
   ]
  },
  {
   "cell_type": "code",
   "execution_count": 12,
   "id": "aa94f64c-a131-4c68-80d8-61fa964b8139",
   "metadata": {},
   "outputs": [
    {
     "data": {
      "image/png": "[encoded data removed]",
      "text/plain": [
       "<Figure size 432x288 with 1 Axes>"
      ]
     },
     "metadata": {
      "needs_background": "light"
     },
     "output_type": "display_data"
    }
   ],
   "source": [
    "y = data[\"rare\"].values\n",
    "x1, x2 = data[\"scale\"].values, data[\"hige\"].values \n",
    "\n",
    "#データをプロット\n",
    "plt.grid(which='major',color='black',linestyle=':')\n",
    "plt.grid(which='minor',color='black',linestyle=':')\n",
    "plt.plot(x1[y], x2[y], 'o', color='C0', label='rare')#青い点：yがTrue(=珍しい）のもの\n",
    "plt.plot(x1[~y], x2[~y], '^', color='C1', label='normal')#オレンジの点：yがFalse(=普通）のもの\n",
    "plt.xlabel(\"scale\")\n",
    "plt.ylabel(\"hige\")\n",
    "plt.legend(loc='best')\n",
    "plt.show()"
   ]
  },
  {
   "cell_type": "code",
   "execution_count": 15,
   "id": "0bb44537-92cb-4bd6-bc8e-f504e388aed3",
   "metadata": {},
   "outputs": [
    {
     "data": {
      "text/plain": [
       "array([[20, 10],\n",
       "       [25, 20],\n",
       "       [30, 40],\n",
       "       [24, 18],\n",
       "       [28, 30],\n",
       "       [35, 10],\n",
       "       [40, 20],\n",
       "       [38, 30],\n",
       "       [55, 25],\n",
       "       [50, 28],\n",
       "       [60, 30],\n",
       "       [32, 18],\n",
       "       [25, 25]])"
      ]
     },
     "execution_count": 15,
     "metadata": {},
     "output_type": "execute_result"
    }
   ],
   "source": [
    "y = data[\"rare\"].values#先ほどの図示と同じなので割愛してもOK\n",
    "X = data[[\"scale\", \"hige\"]].values\n",
    "X"
   ]
  },
  {
   "cell_type": "code",
   "execution_count": 16,
   "id": "f5a8ac77-b253-4e96-8238-f9cc3419629d",
   "metadata": {},
   "outputs": [
    {
     "data": {
      "text/html": [
       "<style>#sk-container-id-1 {color: black;background-color: white;}#sk-container-id-1 pre{padding: 0;}#sk-container-id-1 div.sk-toggleable {background-color: white;}#sk-container-id-1 label.sk-toggleable__label {cursor: pointer;display: block;width: 100%;margin-bottom: 0;padding: 0.3em;box-sizing: border-box;text-align: center;}#sk-container-id-1 label.sk-toggleable__label-arrow:before {content: \"▸\";float: left;margin-right: 0.25em;color: #696969;}#sk-container-id-1 label.sk-toggleable__label-arrow:hover:before {color: black;}#sk-container-id-1 div.sk-estimator:hover label.sk-toggleable__label-arrow:before {color: black;}#sk-container-id-1 div.sk-toggleable__content {max-height: 0;max-width: 0;overflow: hidden;text-align: left;background-color: #f0f8ff;}#sk-container-id-1 div.sk-toggleable__content pre {margin: 0.2em;color: black;border-radius: 0.25em;background-color: #f0f8ff;}#sk-container-id-1 input.sk-toggleable__control:checked~div.sk-toggleable__content {max-height: 200px;max-width: 100%;overflow: auto;}#sk-container-id-1 input.sk-toggleable__control:checked~label.sk-toggleable__label-arrow:before {content: \"▾\";}#sk-container-id-1 div.sk-estimator input.sk-toggleable__control:checked~label.sk-toggleable__label {background-color: #d4ebff;}#sk-container-id-1 div.sk-label input.sk-toggleable__control:checked~label.sk-toggleable__label {background-color: #d4ebff;}#sk-container-id-1 input.sk-hidden--visually {border: 0;clip: rect(1px 1px 1px 1px);clip: rect(1px, 1px, 1px, 1px);height: 1px;margin: -1px;overflow: hidden;padding: 0;position: absolute;width: 1px;}#sk-container-id-1 div.sk-estimator {font-family: monospace;background-color: #f0f8ff;border: 1px dotted black;border-radius: 0.25em;box-sizing: border-box;margin-bottom: 0.5em;}#sk-container-id-1 div.sk-estimator:hover {background-color: #d4ebff;}#sk-container-id-1 div.sk-parallel-item::after {content: \"\";width: 100%;border-bottom: 1px solid gray;flex-grow: 1;}#sk-container-id-1 div.sk-label:hover label.sk-toggleable__label {background-color: #d4ebff;}#sk-container-id-1 div.sk-serial::before {content: \"\";position: absolute;border-left: 1px solid gray;box-sizing: border-box;top: 0;bottom: 0;left: 50%;z-index: 0;}#sk-container-id-1 div.sk-serial {display: flex;flex-direction: column;align-items: center;background-color: white;padding-right: 0.2em;padding-left: 0.2em;position: relative;}#sk-container-id-1 div.sk-item {position: relative;z-index: 1;}#sk-container-id-1 div.sk-parallel {display: flex;align-items: stretch;justify-content: center;background-color: white;position: relative;}#sk-container-id-1 div.sk-item::before, #sk-container-id-1 div.sk-parallel-item::before {content: \"\";position: absolute;border-left: 1px solid gray;box-sizing: border-box;top: 0;bottom: 0;left: 50%;z-index: -1;}#sk-container-id-1 div.sk-parallel-item {display: flex;flex-direction: column;z-index: 1;position: relative;background-color: white;}#sk-container-id-1 div.sk-parallel-item:first-child::after {align-self: flex-end;width: 50%;}#sk-container-id-1 div.sk-parallel-item:last-child::after {align-self: flex-start;width: 50%;}#sk-container-id-1 div.sk-parallel-item:only-child::after {width: 0;}#sk-container-id-1 div.sk-dashed-wrapped {border: 1px dashed gray;margin: 0 0.4em 0.5em 0.4em;box-sizing: border-box;padding-bottom: 0.4em;background-color: white;}#sk-container-id-1 div.sk-label label {font-family: monospace;font-weight: bold;display: inline-block;line-height: 1.2em;}#sk-container-id-1 div.sk-label-container {text-align: center;}#sk-container-id-1 div.sk-container {/* jupyter's `normalize.less` sets `[hidden] { display: none; }` but bootstrap.min.css set `[hidden] { display: none !important; }` so we also need the `!important` here to be able to override the default hidden behavior on the sphinx rendered scikit-learn.org. See: https://github.com/scikit-learn/scikit-learn/issues/21755 */display: inline-block !important;position: relative;}#sk-container-id-1 div.sk-text-repr-fallback {display: none;}</style><div id=\"sk-container-id-1\" class=\"sk-top-container\"><div class=\"sk-text-repr-fallback\"><pre>SVC(C=10, kernel=&#x27;linear&#x27;)</pre><b>In a Jupyter environment, please rerun this cell to show the HTML representation or trust the notebook. <br />On GitHub, the HTML representation is unable to render, please try loading this page with nbviewer.org.</b></div><div class=\"sk-container\" hidden><div class=\"sk-item\"><div class=\"sk-estimator sk-toggleable\"><input class=\"sk-toggleable__control sk-hidden--visually\" id=\"sk-estimator-id-1\" type=\"checkbox\" checked><label for=\"sk-estimator-id-1\" class=\"sk-toggleable__label sk-toggleable__label-arrow\">SVC</label><div class=\"sk-toggleable__content\"><pre>SVC(C=10, kernel=&#x27;linear&#x27;)</pre></div></div></div></div></div>"
      ],
      "text/plain": [
       "SVC(C=10, kernel='linear')"
      ]
     },
     "execution_count": 16,
     "metadata": {},
     "output_type": "execute_result"
    }
   ],
   "source": [
    "C = 10\n",
    "clf = SVC(C=C,kernel=\"linear\")\n",
    "clf.fit(X, y) "
   ]
  },
  {
   "cell_type": "code",
   "execution_count": 17,
   "id": "f99b1a6a-2550-442c-b2a4-6f6087791743",
   "metadata": {},
   "outputs": [
    {
     "data": {
      "image/png": "[encoded data removed]",
      "text/plain": [
       "<Figure size 432x288 with 1 Axes>"
      ]
     },
     "metadata": {
      "needs_background": "light"
     },
     "output_type": "display_data"
    }
   ],
   "source": [
    "fig,ax = plt.subplots(figsize=(6,4))\n",
    "#データの点を表示                                                                                                                                                                    \n",
    "ax.scatter(X[:,0], X[:,1], c=y)\n",
    "\n",
    "#x座標方向に100個の値を並べる                                                                                                                                                          \n",
    "x = np.linspace(np.min(X[:,0]), np.max(X[:,0]), 10)\n",
    "#y座標方向に100個の値を並べる                                                                                                                                                        \n",
    "y = np.linspace(np.min(X[:,1]), np.max(X[:,1]), 10)\n",
    "#x,yを組み合わせた10000個の点のx座標と,y座標の配列                                                                                                                       \n",
    "x_g, y_g = np.meshgrid(x, y)\n",
    "#np,c_で二つの座標を結びつけ, SVMに渡す                                                                                                                                      \n",
    "z_g = clf.predict(np.c_[x_g.ravel(), y_g.ravel()])\n",
    "#z_gは配列の列になっているが、グラフに表示するために(100, 100)の形に戻す                                                                                                             \n",
    "z_g = z_g.reshape(x_g.shape)\n",
    "\n",
    "#境界線の色塗り                                                                                                                                                \n",
    "ax.contourf(x_g,y_g,z_g,cmap=plt.cm.coolwarm, alpha=0.8);\n",
    "\n",
    "#最後に表示                                                                                                                                                                  \n",
    "plt.show()"
   ]
  },
  {
   "cell_type": "code",
   "execution_count": 20,
   "id": "de1b2e32-fa76-4497-a3e1-b0b04bc0e648",
   "metadata": {},
   "outputs": [],
   "source": [
    "z = pd.DataFrame({\n",
    "        \"scale\":[28, 45],\n",
    "        \"hige\":[25, 20],\n",
    "    })\n",
    "z2 = z[[\"scale\", \"hige\"]].values"
   ]
  },
  {
   "cell_type": "code",
   "execution_count": 22,
   "id": "bc0a1844-42e2-4b21-a084-43f8b3a8579f",
   "metadata": {},
   "outputs": [
    {
     "data": {
      "text/plain": [
       "array([ True, False])"
      ]
     },
     "execution_count": 22,
     "metadata": {},
     "output_type": "execute_result"
    }
   ],
   "source": [
    "y_est = clf.predict(z2)\n",
    "y_est"
   ]
  },
  {
   "cell_type": "code",
   "execution_count": null,
   "id": "d3da8905-1619-432f-b907-5ff75571d1be",
   "metadata": {},
   "outputs": [],
   "source": []
  }
 ],
 "metadata": {
  "kernelspec": {
   "display_name": "Python 3 (ipykernel)",
   "language": "python",
   "name": "python3"
  },
  "language_info": {
   "codemirror_mode": {
    "name": "ipython",
    "version": 3
   },
   "file_extension": ".py",
   "mimetype": "text/x-python",
   "name": "python",
   "nbconvert_exporter": "python",
   "pygments_lexer": "ipython3",
   "version": "3.10.14"
  }
 },
 "nbformat": 4,
 "nbformat_minor": 5
}
